{
 "cells": [
  {
   "cell_type": "markdown",
   "metadata": {},
   "source": [
    "## Lecture 09 SQLite Examples\n",
    "\n",
    "Helpful here is the [SQLite Cheat Sheet](https://www.sqlitetutorial.net/sqlite-cheat-sheet/)"
   ]
  },
  {
   "cell_type": "code",
   "execution_count": null,
   "metadata": {},
   "outputs": [],
   "source": [
    "import pandas as pd\n",
    "import sqlite3"
   ]
  },
  {
   "cell_type": "code",
   "execution_count": null,
   "metadata": {},
   "outputs": [],
   "source": [
    "# Create a DB and connect to it.\n",
    "conn = sqlite3.connect(\"lec09.db\")\n",
    "cursor = conn.cursor()"
   ]
  },
  {
   "cell_type": "code",
   "execution_count": null,
   "metadata": {},
   "outputs": [],
   "source": [
    "cursor.execute('''\n",
    "CREATE TABLE cats (\n",
    "    id INTEGER PRIMARY KEY,\n",
    "    name TEXT\n",
    ")''')\n"
   ]
  },
  {
   "cell_type": "code",
   "execution_count": null,
   "metadata": {},
   "outputs": [],
   "source": [
    "# Insert into the table\n",
    "cursor.execute('''INSERT INTO cats VALUES (1, \"Megabyte\")''')\n",
    "cursor.execute('''INSERT INTO cats VALUES (2, \"Meowly Cyrus\")''')\n",
    "cursor.execute('''INSERT INTO cats VALUES (3, \"Fuzz Aldrin\")''')\n",
    "cursor.execute('''INSERT INTO cats VALUES (4, \"Chairman Meow\")''')\n",
    "cursor.execute('''INSERT INTO cats VALUES (5, \"Anderson Pooper\")''')\n",
    "cursor.execute('''INSERT INTO cats VALUES (6, \"Gigabyte\")''')\n",
    "conn.commit()\n"
   ]
  },
  {
   "cell_type": "code",
   "execution_count": null,
   "metadata": {},
   "outputs": [],
   "source": [
    "# What if we run an SQL Command?\n",
    "cursor.execute('''SELECT * FROM cats''')"
   ]
  },
  {
   "cell_type": "code",
   "execution_count": null,
   "metadata": {},
   "outputs": [],
   "source": [
    "# We need to iterate over the object we get back...\n",
    "for row in cursor.execute('''SELECT * FROM cats'''):\n",
    "    print(row)\n"
   ]
  },
  {
   "cell_type": "code",
   "execution_count": null,
   "metadata": {},
   "outputs": [],
   "source": [
    "# Or we can just go to Pandas from here...  \n",
    "# note that we can tell Pandas what to do for an index here.\n",
    "pd.read_sql_query(\"SELECT * FROM cats\", conn, index_col=\"id\")"
   ]
  },
  {
   "cell_type": "code",
   "execution_count": null,
   "metadata": {},
   "outputs": [],
   "source": [
    "# This is a full up DB so we can delete stuff too..\n",
    "cursor.execute('''DELETE FROM cats WHERE id == 4''')\n",
    "conn.commit()\n",
    "pd.read_sql_query(\"SELECT * FROM cats\", conn, index_col=\"id\")\n"
   ]
  },
  {
   "cell_type": "code",
   "execution_count": null,
   "metadata": {},
   "outputs": [],
   "source": [
    "# Let's make another table for joins.\n",
    "cursor.execute('''\n",
    "CREATE TABLE visits (\n",
    "    cat_id INTEGER PRIMARY KEY,\n",
    "    date DATE\n",
    ")''')"
   ]
  },
  {
   "cell_type": "code",
   "execution_count": null,
   "metadata": {},
   "outputs": [],
   "source": [
    "cursor.execute('''INSERT INTO visits VALUES (1, \"02-16-2017\")''')\n",
    "cursor.execute('''INSERT INTO visits VALUES (2, \"02-14-2017\")''')\n",
    "cursor.execute('''INSERT INTO visits VALUES (5, \"02-03-2017\")''')\n",
    "conn.commit()"
   ]
  },
  {
   "cell_type": "markdown",
   "metadata": {},
   "source": [
    "# Joins in SQL\n",
    "\n",
    "Note that the SELECT command actually gives us an inner join by default!"
   ]
  },
  {
   "cell_type": "code",
   "execution_count": null,
   "metadata": {},
   "outputs": [],
   "source": [
    "# We can do our join in Pandas\n",
    "df_cats = pd.read_sql_query('''SELECT * from cats''', conn)\n",
    "df_visits = pd.read_sql_query('''SELECT * from visits''', conn)\n",
    "df_cats.merge(df_visits, how = \"inner\", \n",
    "              left_on = \"id\", right_on = \"cat_id\")\n"
   ]
  },
  {
   "cell_type": "code",
   "execution_count": null,
   "metadata": {},
   "outputs": [],
   "source": [
    "# Or we can directly run them on the system\n",
    "\n",
    "result = cursor.execute('''\n",
    "               SELECT \n",
    "                   *\n",
    "               FROM \n",
    "                   cats, visits\n",
    "               WHERE\n",
    "                   cats.id == visits.cat_id\n",
    "               ''')\n",
    "for i in result:\n",
    "    print(i)\n"
   ]
  },
  {
   "cell_type": "code",
   "execution_count": null,
   "metadata": {},
   "outputs": [],
   "source": [
    "# We can also use union to combine rows, even if it doesn't make sense.\n",
    "result = cursor.execute('''\n",
    "               SELECT \n",
    "                   *\n",
    "               FROM \n",
    "                   cats\n",
    "               UNION\n",
    "               SELECT\n",
    "                   *\n",
    "               FROM\n",
    "                   visits\n",
    "               ''')\n",
    "for i in result:\n",
    "    print(i)"
   ]
  },
  {
   "cell_type": "code",
   "execution_count": null,
   "metadata": {},
   "outputs": [],
   "source": [
    "# What if we want a different join?\n",
    "df_cats.merge(df_visits, how = \"left\", \n",
    "              left_on = \"id\", right_on = \"cat_id\")\n",
    "\n"
   ]
  },
  {
   "cell_type": "code",
   "execution_count": null,
   "metadata": {},
   "outputs": [],
   "source": [
    "result = cursor.execute('''SELECT * FROM cats LEFT JOIN visits ON\n",
    "                   cats.id == visits.cat_id''')\n",
    "for i in result:\n",
    "    print(i)"
   ]
  },
  {
   "cell_type": "code",
   "execution_count": null,
   "metadata": {},
   "outputs": [],
   "source": [
    "# What if we want a different join?\n",
    "df_cats.merge(df_visits, how = \"outer\", \n",
    "              left_on = \"id\", right_on = \"cat_id\")\n",
    "\n"
   ]
  },
  {
   "cell_type": "code",
   "execution_count": null,
   "metadata": {},
   "outputs": [],
   "source": [
    "# Let's do an Outer Join!\n",
    "\n",
    "result = cursor.execute('''SELECT * FROM cats FULL OUTER JOIN visits \n",
    "                    ON cats.id == visits.cat_id''')\n",
    "for i in result:\n",
    "    print(i)"
   ]
  },
  {
   "cell_type": "markdown",
   "metadata": {},
   "source": [
    "## GroupBy and Aggregate in SQL.\n"
   ]
  },
  {
   "cell_type": "code",
   "execution_count": null,
   "metadata": {},
   "outputs": [],
   "source": [
    "# Make a new Table...\n",
    "cursor.execute('''\n",
    "CREATE TABLE persons (\n",
    "    id INTEGER PRIMARY KEY,\n",
    "    age FLOAT,\n",
    "    wgt_kg FLOAT,\n",
    "    hgt_cm FLOAT,\n",
    "    nat_id INTEGER\n",
    "    \n",
    ")''')"
   ]
  },
  {
   "cell_type": "code",
   "execution_count": null,
   "metadata": {},
   "outputs": [],
   "source": [
    "# Insert into the table\n",
    "cursor.execute('''INSERT INTO persons VALUES (1, 12.2, 42.3, 145.1, 1)''')\n",
    "cursor.execute('''INSERT INTO persons VALUES (2, 11.0, 40.8, 143.8, 1)''')\n",
    "cursor.execute('''INSERT INTO persons VALUES (3, 15.6, 65.3, 165.3, 2)''')\n",
    "cursor.execute('''INSERT INTO persons VALUES (4, 35.1, 84.2, 185.8, 1)''')\n",
    "cursor.execute('''INSERT INTO persons VALUES (5, 18.1, 62.2, 176.2, 3)''')\n",
    "cursor.execute('''INSERT INTO persons VALUES (6, 19.6, 82.1, 180.1, 1)''')\n",
    "conn.commit()"
   ]
  },
  {
   "cell_type": "code",
   "execution_count": null,
   "metadata": {},
   "outputs": [],
   "source": [
    "ret = cursor.execute('''SELECT * FROM persons''')\n",
    "for row in ret:\n",
    "    print(row)"
   ]
  },
  {
   "cell_type": "code",
   "execution_count": null,
   "metadata": {},
   "outputs": [],
   "source": [
    "ret = cursor.execute('''SELECT nat_id, AVG(age) as average_age\n",
    "                        FROM persons\n",
    "                        GROUP BY nat_id ''')\n",
    "for row in ret:\n",
    "    print(row)"
   ]
  },
  {
   "cell_type": "code",
   "execution_count": null,
   "metadata": {},
   "outputs": [],
   "source": [
    "conn.close()"
   ]
  },
  {
   "cell_type": "code",
   "execution_count": null,
   "metadata": {},
   "outputs": [],
   "source": []
  }
 ],
 "metadata": {
  "kernelspec": {
   "display_name": "Python 3",
   "language": "python",
   "name": "python3"
  },
  "language_info": {
   "codemirror_mode": {
    "name": "ipython",
    "version": 3
   },
   "file_extension": ".py",
   "mimetype": "text/x-python",
   "name": "python",
   "nbconvert_exporter": "python",
   "pygments_lexer": "ipython3",
   "version": "3.7.2"
  }
 },
 "nbformat": 4,
 "nbformat_minor": 2
}
