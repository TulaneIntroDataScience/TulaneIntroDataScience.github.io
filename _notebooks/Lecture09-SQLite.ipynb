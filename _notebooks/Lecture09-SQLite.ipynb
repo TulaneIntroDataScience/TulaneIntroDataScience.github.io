{
 "cells": [
  {
   "cell_type": "markdown",
   "metadata": {},
   "source": [
    "## Lecture 09 SQLite Examples\n",
    "\n",
    "Helpful here is the [SQLite Cheat Sheet](https://www.sqlitetutorial.net/sqlite-cheat-sheet/)"
   ]
  },
  {
   "cell_type": "code",
   "execution_count": 38,
   "metadata": {},
   "outputs": [],
   "source": [
    "import pandas as pd\n",
    "import sqlite3"
   ]
  },
  {
   "cell_type": "code",
   "execution_count": 39,
   "metadata": {},
   "outputs": [],
   "source": [
    "# Create a DB and connect to it.\n",
    "conn = sqlite3.connect(\"lec09.db\")\n",
    "cursor = conn.cursor()"
   ]
  },
  {
   "cell_type": "code",
   "execution_count": 40,
   "metadata": {},
   "outputs": [
    {
     "data": {
      "text/plain": [
       "<sqlite3.Cursor at 0x121cbcd50>"
      ]
     },
     "execution_count": 40,
     "metadata": {},
     "output_type": "execute_result"
    }
   ],
   "source": [
    "cursor.execute('''\n",
    "CREATE TABLE cats (\n",
    "    id INTEGER PRIMARY KEY,\n",
    "    name TEXT\n",
    ")''')\n"
   ]
  },
  {
   "cell_type": "code",
   "execution_count": 41,
   "metadata": {},
   "outputs": [],
   "source": [
    "# Insert into the table\n",
    "cursor.execute('''INSERT INTO cats VALUES (1, \"Megabyte\")''')\n",
    "cursor.execute('''INSERT INTO cats VALUES (2, \"Meowly Cyrus\")''')\n",
    "cursor.execute('''INSERT INTO cats VALUES (3, \"Fuzz Aldrin\")''')\n",
    "cursor.execute('''INSERT INTO cats VALUES (4, \"Chairman Meow\")''')\n",
    "cursor.execute('''INSERT INTO cats VALUES (5, \"Anderson Pooper\")''')\n",
    "cursor.execute('''INSERT INTO cats VALUES (6, \"Gigabyte\")''')\n",
    "conn.commit()\n"
   ]
  },
  {
   "cell_type": "code",
   "execution_count": 42,
   "metadata": {},
   "outputs": [
    {
     "data": {
      "text/plain": [
       "<sqlite3.Cursor at 0x121cbcd50>"
      ]
     },
     "execution_count": 42,
     "metadata": {},
     "output_type": "execute_result"
    }
   ],
   "source": [
    "# What if we run an SQL Command?\n",
    "cursor.execute('''SELECT * FROM cats''')"
   ]
  },
  {
   "cell_type": "code",
   "execution_count": 43,
   "metadata": {},
   "outputs": [
    {
     "name": "stdout",
     "output_type": "stream",
     "text": [
      "(1, 'Megabyte')\n",
      "(2, 'Meowly Cyrus')\n",
      "(3, 'Fuzz Aldrin')\n",
      "(4, 'Chairman Meow')\n",
      "(5, 'Anderson Pooper')\n",
      "(6, 'Gigabyte')\n"
     ]
    }
   ],
   "source": [
    "# We need to iterate over the object we get back...\n",
    "for row in cursor.execute('''SELECT * FROM cats'''):\n",
    "    print(row)\n"
   ]
  },
  {
   "cell_type": "code",
   "execution_count": 44,
   "metadata": {},
   "outputs": [
    {
     "data": {
      "text/html": [
       "<div>\n",
       "<style scoped>\n",
       "    .dataframe tbody tr th:only-of-type {\n",
       "        vertical-align: middle;\n",
       "    }\n",
       "\n",
       "    .dataframe tbody tr th {\n",
       "        vertical-align: top;\n",
       "    }\n",
       "\n",
       "    .dataframe thead th {\n",
       "        text-align: right;\n",
       "    }\n",
       "</style>\n",
       "<table border=\"1\" class=\"dataframe\">\n",
       "  <thead>\n",
       "    <tr style=\"text-align: right;\">\n",
       "      <th></th>\n",
       "      <th>name</th>\n",
       "    </tr>\n",
       "    <tr>\n",
       "      <th>id</th>\n",
       "      <th></th>\n",
       "    </tr>\n",
       "  </thead>\n",
       "  <tbody>\n",
       "    <tr>\n",
       "      <th>1</th>\n",
       "      <td>Megabyte</td>\n",
       "    </tr>\n",
       "    <tr>\n",
       "      <th>2</th>\n",
       "      <td>Meowly Cyrus</td>\n",
       "    </tr>\n",
       "    <tr>\n",
       "      <th>3</th>\n",
       "      <td>Fuzz Aldrin</td>\n",
       "    </tr>\n",
       "    <tr>\n",
       "      <th>4</th>\n",
       "      <td>Chairman Meow</td>\n",
       "    </tr>\n",
       "    <tr>\n",
       "      <th>5</th>\n",
       "      <td>Anderson Pooper</td>\n",
       "    </tr>\n",
       "    <tr>\n",
       "      <th>6</th>\n",
       "      <td>Gigabyte</td>\n",
       "    </tr>\n",
       "  </tbody>\n",
       "</table>\n",
       "</div>"
      ],
      "text/plain": [
       "               name\n",
       "id                 \n",
       "1          Megabyte\n",
       "2      Meowly Cyrus\n",
       "3       Fuzz Aldrin\n",
       "4     Chairman Meow\n",
       "5   Anderson Pooper\n",
       "6          Gigabyte"
      ]
     },
     "execution_count": 44,
     "metadata": {},
     "output_type": "execute_result"
    }
   ],
   "source": [
    "# Or we can just go to Pandas from here...  \n",
    "# note that we can tell Pandas what to do for an index here.\n",
    "pd.read_sql_query(\"SELECT * FROM cats\", conn, index_col=\"id\")"
   ]
  },
  {
   "cell_type": "code",
   "execution_count": 51,
   "metadata": {},
   "outputs": [
    {
     "data": {
      "text/html": [
       "<div>\n",
       "<style scoped>\n",
       "    .dataframe tbody tr th:only-of-type {\n",
       "        vertical-align: middle;\n",
       "    }\n",
       "\n",
       "    .dataframe tbody tr th {\n",
       "        vertical-align: top;\n",
       "    }\n",
       "\n",
       "    .dataframe thead th {\n",
       "        text-align: right;\n",
       "    }\n",
       "</style>\n",
       "<table border=\"1\" class=\"dataframe\">\n",
       "  <thead>\n",
       "    <tr style=\"text-align: right;\">\n",
       "      <th></th>\n",
       "      <th>name</th>\n",
       "    </tr>\n",
       "    <tr>\n",
       "      <th>id</th>\n",
       "      <th></th>\n",
       "    </tr>\n",
       "  </thead>\n",
       "  <tbody>\n",
       "    <tr>\n",
       "      <th>1</th>\n",
       "      <td>Megabyte</td>\n",
       "    </tr>\n",
       "    <tr>\n",
       "      <th>2</th>\n",
       "      <td>Meowly Cyrus</td>\n",
       "    </tr>\n",
       "    <tr>\n",
       "      <th>3</th>\n",
       "      <td>Fuzz Aldrin</td>\n",
       "    </tr>\n",
       "    <tr>\n",
       "      <th>5</th>\n",
       "      <td>Anderson Pooper</td>\n",
       "    </tr>\n",
       "    <tr>\n",
       "      <th>6</th>\n",
       "      <td>Gigabyte</td>\n",
       "    </tr>\n",
       "  </tbody>\n",
       "</table>\n",
       "</div>"
      ],
      "text/plain": [
       "               name\n",
       "id                 \n",
       "1          Megabyte\n",
       "2      Meowly Cyrus\n",
       "3       Fuzz Aldrin\n",
       "5   Anderson Pooper\n",
       "6          Gigabyte"
      ]
     },
     "execution_count": 51,
     "metadata": {},
     "output_type": "execute_result"
    }
   ],
   "source": [
    "# This is a full up DB so we can delete stuff too..\n",
    "cursor.execute('''DELETE FROM cats WHERE id == 4''')\n",
    "conn.commit()\n",
    "pd.read_sql_query(\"SELECT * FROM cats\", conn, index_col=\"id\")\n"
   ]
  },
  {
   "cell_type": "code",
   "execution_count": 45,
   "metadata": {},
   "outputs": [
    {
     "data": {
      "text/plain": [
       "<sqlite3.Cursor at 0x121cbcd50>"
      ]
     },
     "execution_count": 45,
     "metadata": {},
     "output_type": "execute_result"
    }
   ],
   "source": [
    "# Let's make another table for joins.\n",
    "cursor.execute('''\n",
    "CREATE TABLE visits (\n",
    "    cat_id INTEGER PRIMARY KEY,\n",
    "    date DATE\n",
    ")''')"
   ]
  },
  {
   "cell_type": "code",
   "execution_count": 46,
   "metadata": {},
   "outputs": [],
   "source": [
    "cursor.execute('''INSERT INTO visits VALUES (1, \"02-16-2017\")''')\n",
    "cursor.execute('''INSERT INTO visits VALUES (2, \"02-14-2017\")''')\n",
    "cursor.execute('''INSERT INTO visits VALUES (5, \"02-03-2017\")''')\n",
    "conn.commit()"
   ]
  },
  {
   "cell_type": "code",
   "execution_count": 47,
   "metadata": {},
   "outputs": [
    {
     "data": {
      "text/html": [
       "<div>\n",
       "<style scoped>\n",
       "    .dataframe tbody tr th:only-of-type {\n",
       "        vertical-align: middle;\n",
       "    }\n",
       "\n",
       "    .dataframe tbody tr th {\n",
       "        vertical-align: top;\n",
       "    }\n",
       "\n",
       "    .dataframe thead th {\n",
       "        text-align: right;\n",
       "    }\n",
       "</style>\n",
       "<table border=\"1\" class=\"dataframe\">\n",
       "  <thead>\n",
       "    <tr style=\"text-align: right;\">\n",
       "      <th></th>\n",
       "      <th>id</th>\n",
       "      <th>name</th>\n",
       "      <th>cat_id</th>\n",
       "      <th>date</th>\n",
       "    </tr>\n",
       "  </thead>\n",
       "  <tbody>\n",
       "    <tr>\n",
       "      <th>0</th>\n",
       "      <td>1</td>\n",
       "      <td>Megabyte</td>\n",
       "      <td>1</td>\n",
       "      <td>02-16-2017</td>\n",
       "    </tr>\n",
       "    <tr>\n",
       "      <th>1</th>\n",
       "      <td>2</td>\n",
       "      <td>Meowly Cyrus</td>\n",
       "      <td>2</td>\n",
       "      <td>02-14-2017</td>\n",
       "    </tr>\n",
       "    <tr>\n",
       "      <th>2</th>\n",
       "      <td>5</td>\n",
       "      <td>Anderson Pooper</td>\n",
       "      <td>5</td>\n",
       "      <td>02-03-2017</td>\n",
       "    </tr>\n",
       "  </tbody>\n",
       "</table>\n",
       "</div>"
      ],
      "text/plain": [
       "   id             name  cat_id        date\n",
       "0   1         Megabyte       1  02-16-2017\n",
       "1   2     Meowly Cyrus       2  02-14-2017\n",
       "2   5  Anderson Pooper       5  02-03-2017"
      ]
     },
     "execution_count": 47,
     "metadata": {},
     "output_type": "execute_result"
    }
   ],
   "source": [
    "# We can do our join in Pandas\n",
    "df_cats = pd.read_sql_query('''SELECT * from cats''', conn)\n",
    "df_visits = pd.read_sql_query('''SELECT * from visits''', conn)\n",
    "df_cats.merge(df_visits, how = \"inner\", \n",
    "              left_on = \"id\", right_on = \"cat_id\")\n"
   ]
  },
  {
   "cell_type": "code",
   "execution_count": 50,
   "metadata": {},
   "outputs": [
    {
     "name": "stdout",
     "output_type": "stream",
     "text": [
      "(1, 'Megabyte', 1, '02-16-2017')\n",
      "(2, 'Meowly Cyrus', 2, '02-14-2017')\n",
      "(5, 'Anderson Pooper', 5, '02-03-2017')\n"
     ]
    }
   ],
   "source": [
    "# Or we can directly run them on the system\n",
    "\n",
    "result = cursor.execute('''\n",
    "               SELECT \n",
    "                   *\n",
    "               FROM \n",
    "                   cats, visits\n",
    "               WHERE\n",
    "                   cats.id == visits.cat_id\n",
    "               ''')\n",
    "for i in result:\n",
    "    print(i)\n"
   ]
  },
  {
   "cell_type": "code",
   "execution_count": 62,
   "metadata": {},
   "outputs": [
    {
     "name": "stdout",
     "output_type": "stream",
     "text": [
      "(1, '02-16-2017')\n",
      "(1, 'Megabyte')\n",
      "(2, '02-14-2017')\n",
      "(2, 'Meowly Cyrus')\n",
      "(3, 'Fuzz Aldrin')\n",
      "(5, '02-03-2017')\n",
      "(5, 'Anderson Pooper')\n",
      "(6, 'Gigabyte')\n"
     ]
    }
   ],
   "source": [
    "# We can also use union to combine rows, even if it doesn't make sense.\n",
    "result = cursor.execute('''\n",
    "               SELECT \n",
    "                   *\n",
    "               FROM \n",
    "                   cats\n",
    "               UNION\n",
    "               SELECT\n",
    "                   *\n",
    "               FROM\n",
    "                   visits\n",
    "               ''')\n",
    "for i in result:\n",
    "    print(i)"
   ]
  },
  {
   "cell_type": "code",
   "execution_count": 53,
   "metadata": {},
   "outputs": [
    {
     "data": {
      "text/html": [
       "<div>\n",
       "<style scoped>\n",
       "    .dataframe tbody tr th:only-of-type {\n",
       "        vertical-align: middle;\n",
       "    }\n",
       "\n",
       "    .dataframe tbody tr th {\n",
       "        vertical-align: top;\n",
       "    }\n",
       "\n",
       "    .dataframe thead th {\n",
       "        text-align: right;\n",
       "    }\n",
       "</style>\n",
       "<table border=\"1\" class=\"dataframe\">\n",
       "  <thead>\n",
       "    <tr style=\"text-align: right;\">\n",
       "      <th></th>\n",
       "      <th>id</th>\n",
       "      <th>name</th>\n",
       "      <th>cat_id</th>\n",
       "      <th>date</th>\n",
       "    </tr>\n",
       "  </thead>\n",
       "  <tbody>\n",
       "    <tr>\n",
       "      <th>0</th>\n",
       "      <td>1</td>\n",
       "      <td>Megabyte</td>\n",
       "      <td>1.0</td>\n",
       "      <td>02-16-2017</td>\n",
       "    </tr>\n",
       "    <tr>\n",
       "      <th>1</th>\n",
       "      <td>2</td>\n",
       "      <td>Meowly Cyrus</td>\n",
       "      <td>2.0</td>\n",
       "      <td>02-14-2017</td>\n",
       "    </tr>\n",
       "    <tr>\n",
       "      <th>2</th>\n",
       "      <td>3</td>\n",
       "      <td>Fuzz Aldrin</td>\n",
       "      <td>NaN</td>\n",
       "      <td>NaN</td>\n",
       "    </tr>\n",
       "    <tr>\n",
       "      <th>3</th>\n",
       "      <td>4</td>\n",
       "      <td>Chairman Meow</td>\n",
       "      <td>NaN</td>\n",
       "      <td>NaN</td>\n",
       "    </tr>\n",
       "    <tr>\n",
       "      <th>4</th>\n",
       "      <td>5</td>\n",
       "      <td>Anderson Pooper</td>\n",
       "      <td>5.0</td>\n",
       "      <td>02-03-2017</td>\n",
       "    </tr>\n",
       "    <tr>\n",
       "      <th>5</th>\n",
       "      <td>6</td>\n",
       "      <td>Gigabyte</td>\n",
       "      <td>NaN</td>\n",
       "      <td>NaN</td>\n",
       "    </tr>\n",
       "  </tbody>\n",
       "</table>\n",
       "</div>"
      ],
      "text/plain": [
       "   id             name  cat_id        date\n",
       "0   1         Megabyte     1.0  02-16-2017\n",
       "1   2     Meowly Cyrus     2.0  02-14-2017\n",
       "2   3      Fuzz Aldrin     NaN         NaN\n",
       "3   4    Chairman Meow     NaN         NaN\n",
       "4   5  Anderson Pooper     5.0  02-03-2017\n",
       "5   6         Gigabyte     NaN         NaN"
      ]
     },
     "execution_count": 53,
     "metadata": {},
     "output_type": "execute_result"
    }
   ],
   "source": [
    "# What if we want a different join?\n",
    "df_cats.merge(df_visits, how = \"left\", \n",
    "              left_on = \"id\", right_on = \"cat_id\")\n",
    "\n"
   ]
  },
  {
   "cell_type": "code",
   "execution_count": 58,
   "metadata": {},
   "outputs": [
    {
     "name": "stdout",
     "output_type": "stream",
     "text": [
      "(1, 'Megabyte', 1, '02-16-2017')\n",
      "(2, 'Meowly Cyrus', 2, '02-14-2017')\n",
      "(3, 'Fuzz Aldrin', None, None)\n",
      "(5, 'Anderson Pooper', 5, '02-03-2017')\n",
      "(6, 'Gigabyte', None, None)\n"
     ]
    }
   ],
   "source": [
    "result = cursor.execute('''SELECT * FROM cats LEFT JOIN visits ON\n",
    "                   cats.id == visits.cat_id''')\n",
    "for i in result:\n",
    "    print(i)"
   ]
  },
  {
   "cell_type": "code",
   "execution_count": 63,
   "metadata": {},
   "outputs": [
    {
     "data": {
      "text/html": [
       "<div>\n",
       "<style scoped>\n",
       "    .dataframe tbody tr th:only-of-type {\n",
       "        vertical-align: middle;\n",
       "    }\n",
       "\n",
       "    .dataframe tbody tr th {\n",
       "        vertical-align: top;\n",
       "    }\n",
       "\n",
       "    .dataframe thead th {\n",
       "        text-align: right;\n",
       "    }\n",
       "</style>\n",
       "<table border=\"1\" class=\"dataframe\">\n",
       "  <thead>\n",
       "    <tr style=\"text-align: right;\">\n",
       "      <th></th>\n",
       "      <th>id</th>\n",
       "      <th>name</th>\n",
       "      <th>cat_id</th>\n",
       "      <th>date</th>\n",
       "    </tr>\n",
       "  </thead>\n",
       "  <tbody>\n",
       "    <tr>\n",
       "      <th>0</th>\n",
       "      <td>1</td>\n",
       "      <td>Megabyte</td>\n",
       "      <td>1.0</td>\n",
       "      <td>02-16-2017</td>\n",
       "    </tr>\n",
       "    <tr>\n",
       "      <th>1</th>\n",
       "      <td>2</td>\n",
       "      <td>Meowly Cyrus</td>\n",
       "      <td>2.0</td>\n",
       "      <td>02-14-2017</td>\n",
       "    </tr>\n",
       "    <tr>\n",
       "      <th>2</th>\n",
       "      <td>3</td>\n",
       "      <td>Fuzz Aldrin</td>\n",
       "      <td>NaN</td>\n",
       "      <td>NaN</td>\n",
       "    </tr>\n",
       "    <tr>\n",
       "      <th>3</th>\n",
       "      <td>4</td>\n",
       "      <td>Chairman Meow</td>\n",
       "      <td>NaN</td>\n",
       "      <td>NaN</td>\n",
       "    </tr>\n",
       "    <tr>\n",
       "      <th>4</th>\n",
       "      <td>5</td>\n",
       "      <td>Anderson Pooper</td>\n",
       "      <td>5.0</td>\n",
       "      <td>02-03-2017</td>\n",
       "    </tr>\n",
       "    <tr>\n",
       "      <th>5</th>\n",
       "      <td>6</td>\n",
       "      <td>Gigabyte</td>\n",
       "      <td>NaN</td>\n",
       "      <td>NaN</td>\n",
       "    </tr>\n",
       "  </tbody>\n",
       "</table>\n",
       "</div>"
      ],
      "text/plain": [
       "   id             name  cat_id        date\n",
       "0   1         Megabyte     1.0  02-16-2017\n",
       "1   2     Meowly Cyrus     2.0  02-14-2017\n",
       "2   3      Fuzz Aldrin     NaN         NaN\n",
       "3   4    Chairman Meow     NaN         NaN\n",
       "4   5  Anderson Pooper     5.0  02-03-2017\n",
       "5   6         Gigabyte     NaN         NaN"
      ]
     },
     "execution_count": 63,
     "metadata": {},
     "output_type": "execute_result"
    }
   ],
   "source": [
    "# What if we want a different join?\n",
    "df_cats.merge(df_visits, how = \"outer\", \n",
    "              left_on = \"id\", right_on = \"cat_id\")\n",
    "\n"
   ]
  },
  {
   "cell_type": "code",
   "execution_count": 64,
   "metadata": {},
   "outputs": [
    {
     "ename": "OperationalError",
     "evalue": "RIGHT and FULL OUTER JOINs are not currently supported",
     "output_type": "error",
     "traceback": [
      "\u001b[0;31m---------------------------------------------------------------------------\u001b[0m",
      "\u001b[0;31mOperationalError\u001b[0m                          Traceback (most recent call last)",
      "\u001b[0;32m<ipython-input-64-3b747e5e37b0>\u001b[0m in \u001b[0;36m<module>\u001b[0;34m\u001b[0m\n\u001b[1;32m      2\u001b[0m \u001b[0;34m\u001b[0m\u001b[0m\n\u001b[1;32m      3\u001b[0m result = cursor.execute('''SELECT * FROM cats FULL OUTER JOIN visits \n\u001b[0;32m----> 4\u001b[0;31m                     ON cats.id == visits.cat_id''')\n\u001b[0m\u001b[1;32m      5\u001b[0m \u001b[0;32mfor\u001b[0m \u001b[0mi\u001b[0m \u001b[0;32min\u001b[0m \u001b[0mresult\u001b[0m\u001b[0;34m:\u001b[0m\u001b[0;34m\u001b[0m\u001b[0;34m\u001b[0m\u001b[0m\n\u001b[1;32m      6\u001b[0m     \u001b[0mprint\u001b[0m\u001b[0;34m(\u001b[0m\u001b[0mi\u001b[0m\u001b[0;34m)\u001b[0m\u001b[0;34m\u001b[0m\u001b[0;34m\u001b[0m\u001b[0m\n",
      "\u001b[0;31mOperationalError\u001b[0m: RIGHT and FULL OUTER JOINs are not currently supported"
     ]
    }
   ],
   "source": [
    "# Let's do an Outer Join!\n",
    "\n",
    "result = cursor.execute('''SELECT * FROM cats FULL OUTER JOIN visits \n",
    "                    ON cats.id == visits.cat_id''')\n",
    "for i in result:\n",
    "    print(i)"
   ]
  },
  {
   "cell_type": "markdown",
   "metadata": {},
   "source": [
    "## GroupBy and Aggregate in SQL.\n"
   ]
  },
  {
   "cell_type": "code",
   "execution_count": 65,
   "metadata": {},
   "outputs": [
    {
     "data": {
      "text/plain": [
       "<sqlite3.Cursor at 0x121cbcd50>"
      ]
     },
     "execution_count": 65,
     "metadata": {},
     "output_type": "execute_result"
    }
   ],
   "source": [
    "# Make a new Table...\n",
    "cursor.execute('''\n",
    "CREATE TABLE persons (\n",
    "    id INTEGER PRIMARY KEY,\n",
    "    age FLOAT,\n",
    "    wgt_kg FLOAT,\n",
    "    hgt_cm FLOAT,\n",
    "    nat_id INTEGER\n",
    "    \n",
    ")''')"
   ]
  },
  {
   "cell_type": "code",
   "execution_count": 66,
   "metadata": {},
   "outputs": [],
   "source": [
    "# Insert into the table\n",
    "cursor.execute('''INSERT INTO persons VALUES (1, 12.2, 42.3, 145.1, 1)''')\n",
    "cursor.execute('''INSERT INTO persons VALUES (2, 11.0, 40.8, 143.8, 1)''')\n",
    "cursor.execute('''INSERT INTO persons VALUES (3, 15.6, 65.3, 165.3, 2)''')\n",
    "cursor.execute('''INSERT INTO persons VALUES (4, 35.1, 84.2, 185.8, 1)''')\n",
    "cursor.execute('''INSERT INTO persons VALUES (5, 18.1, 62.2, 176.2, 3)''')\n",
    "cursor.execute('''INSERT INTO persons VALUES (6, 19.6, 82.1, 180.1, 1)''')\n",
    "conn.commit()"
   ]
  },
  {
   "cell_type": "code",
   "execution_count": 67,
   "metadata": {},
   "outputs": [
    {
     "name": "stdout",
     "output_type": "stream",
     "text": [
      "(1, 12.2, 42.3, 145.1, 1)\n",
      "(2, 11.0, 40.8, 143.8, 1)\n",
      "(3, 15.6, 65.3, 165.3, 2)\n",
      "(4, 35.1, 84.2, 185.8, 1)\n",
      "(5, 18.1, 62.2, 176.2, 3)\n",
      "(6, 19.6, 82.1, 180.1, 1)\n"
     ]
    }
   ],
   "source": [
    "ret = cursor.execute('''SELECT * FROM persons''')\n",
    "for row in ret:\n",
    "    print(row)"
   ]
  },
  {
   "cell_type": "code",
   "execution_count": 70,
   "metadata": {},
   "outputs": [
    {
     "name": "stdout",
     "output_type": "stream",
     "text": [
      "(1, 19.475)\n",
      "(2, 15.6)\n",
      "(3, 18.1)\n"
     ]
    }
   ],
   "source": [
    "ret = cursor.execute('''SELECT nat_id, AVG(age) as average_age\n",
    "                        FROM persons\n",
    "                        GROUP BY nat_id ''')\n",
    "for row in ret:\n",
    "    print(row)"
   ]
  },
  {
   "cell_type": "code",
   "execution_count": null,
   "metadata": {},
   "outputs": [],
   "source": []
  }
 ],
 "metadata": {
  "kernelspec": {
   "display_name": "Python 3",
   "language": "python",
   "name": "python3"
  },
  "language_info": {
   "codemirror_mode": {
    "name": "ipython",
    "version": 3
   },
   "file_extension": ".py",
   "mimetype": "text/x-python",
   "name": "python",
   "nbconvert_exporter": "python",
   "pygments_lexer": "ipython3",
   "version": "3.7.2"
  }
 },
 "nbformat": 4,
 "nbformat_minor": 2
}
